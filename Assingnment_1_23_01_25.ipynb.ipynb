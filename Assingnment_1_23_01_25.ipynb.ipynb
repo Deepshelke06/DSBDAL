{
 "cells": [
  {
   "cell_type": "code",
   "execution_count": 1,
   "id": "14e939a6",
   "metadata": {},
   "outputs": [
    {
     "name": "stdout",
     "output_type": "stream",
     "text": [
      "   Unnamed: 0 Result     Margin    BR  Toss  Bat   Opposition     Ground  \\\n",
      "0         418    won    85 runs   NaN  lost  1st      v India    Kolkata   \n",
      "1         692   lost    85 runs   NaN   won  2nd   v Pakistan    Kolkata   \n",
      "2         419   lost    10 runs   NaN  lost  2nd      v India      Delhi   \n",
      "3         693    won    10 runs   NaN   won  1st   v Pakistan      Delhi   \n",
      "4         121   lost   107 runs   NaN  lost  2nd  v Australia  Melbourne   \n",
      "5        1096    won   107 runs   NaN   won  1st  v Sri Lanka  Melbourne   \n",
      "6         694   lost     9 runs   NaN  lost  2nd    v England     Rajkot   \n",
      "7         852    won     9 runs   NaN   won  1st      v India     Rajkot   \n",
      "8         122    won  8 wickets  59.0   won  2nd  v Australia   Adelaide   \n",
      "9        1097   lost  8 wickets  59.0  lost  1st  v Sri Lanka   Adelaide   \n",
      "\n",
      "    Start Date    Match_ID    Country  Country_ID  \n",
      "0   3 Jan 2013  ODI # 3315   Pakistan           7  \n",
      "1   3 Jan 2013  ODI # 3315      India           6  \n",
      "2   6 Jan 2013  ODI # 3316   Pakistan           7  \n",
      "3   6 Jan 2013  ODI # 3316      India           6  \n",
      "4  11 Jan 2013  ODI # 3317   SriLanka           8  \n",
      "5  11 Jan 2013  ODI # 3317  Australia           2  \n",
      "6  11 Jan 2013  ODI # 3318      India           6  \n",
      "7  11 Jan 2013  ODI # 3318    England           1  \n",
      "8  13 Jan 2013  ODI # 3319   SriLanka           8  \n",
      "9  13 Jan 2013  ODI # 3319  Australia           2  \n"
     ]
    }
   ],
   "source": [
    "import pandas as pd\n",
    "data= pd.read_csv('match_result.csv')\n",
    "print(data.head(10))"
   ]
  },
  {
   "cell_type": "code",
   "execution_count": null,
   "id": "5c0d8c3c",
   "metadata": {},
   "outputs": [],
   "source": []
  }
 ],
 "metadata": {
  "kernelspec": {
   "display_name": "Python 3 (ipykernel)",
   "language": "python",
   "name": "python3"
  },
  "language_info": {
   "codemirror_mode": {
    "name": "ipython",
    "version": 3
   },
   "file_extension": ".py",
   "mimetype": "text/x-python",
   "name": "python",
   "nbconvert_exporter": "python",
   "pygments_lexer": "ipython3",
   "version": "3.11.4"
  }
 },
 "nbformat": 4,
 "nbformat_minor": 5
}
