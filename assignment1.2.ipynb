{
 "cells": [
  {
   "cell_type": "code",
   "execution_count": 1,
   "id": "c635cb42-dcfa-4456-a71a-659f37e98725",
   "metadata": {},
   "outputs": [],
   "source": [
    "import pandas as pd"
   ]
  },
  {
   "cell_type": "code",
   "execution_count": 7,
   "id": "c277e4dd-5da8-4ffd-a979-775d2ec750f5",
   "metadata": {},
   "outputs": [],
   "source": [
    "data = {\n",
    "    \"Match 1\": [45, 60, 20, 80, 55],\n",
    "    \"Match 2\": [30, 50, 40, 90, 65],\n",
    "    \"Match 3\": [70, 20, 35, 60, 40],\n",
    "    \"Match 4\": [25, 45, 15, 100, 75],\n",
    "}\n",
    "players = [\"Player 1\", \"Player 2\", \"Player 3\", \"Player 4\", \"Player 5\"]\n",
    "performance = pd.DataFrame(data, index=players)"
   ]
  },
  {
   "cell_type": "code",
   "execution_count": 9,
   "id": "c0be0eec-3b18-47a5-bde2-140566ccd5cf",
   "metadata": {},
   "outputs": [
    {
     "data": {
      "text/html": [
       "<div>\n",
       "<style scoped>\n",
       "    .dataframe tbody tr th:only-of-type {\n",
       "        vertical-align: middle;\n",
       "    }\n",
       "\n",
       "    .dataframe tbody tr th {\n",
       "        vertical-align: top;\n",
       "    }\n",
       "\n",
       "    .dataframe thead th {\n",
       "        text-align: right;\n",
       "    }\n",
       "</style>\n",
       "<table border=\"1\" class=\"dataframe\">\n",
       "  <thead>\n",
       "    <tr style=\"text-align: right;\">\n",
       "      <th></th>\n",
       "      <th>Match 1</th>\n",
       "      <th>Match 2</th>\n",
       "      <th>Match 3</th>\n",
       "      <th>Match 4</th>\n",
       "    </tr>\n",
       "  </thead>\n",
       "  <tbody>\n",
       "    <tr>\n",
       "      <th>Player 1</th>\n",
       "      <td>45</td>\n",
       "      <td>30</td>\n",
       "      <td>70</td>\n",
       "      <td>25</td>\n",
       "    </tr>\n",
       "    <tr>\n",
       "      <th>Player 2</th>\n",
       "      <td>60</td>\n",
       "      <td>50</td>\n",
       "      <td>20</td>\n",
       "      <td>45</td>\n",
       "    </tr>\n",
       "    <tr>\n",
       "      <th>Player 3</th>\n",
       "      <td>20</td>\n",
       "      <td>40</td>\n",
       "      <td>35</td>\n",
       "      <td>15</td>\n",
       "    </tr>\n",
       "    <tr>\n",
       "      <th>Player 4</th>\n",
       "      <td>80</td>\n",
       "      <td>90</td>\n",
       "      <td>60</td>\n",
       "      <td>100</td>\n",
       "    </tr>\n",
       "    <tr>\n",
       "      <th>Player 5</th>\n",
       "      <td>55</td>\n",
       "      <td>65</td>\n",
       "      <td>40</td>\n",
       "      <td>75</td>\n",
       "    </tr>\n",
       "  </tbody>\n",
       "</table>\n",
       "</div>"
      ],
      "text/plain": [
       "          Match 1  Match 2  Match 3  Match 4\n",
       "Player 1       45       30       70       25\n",
       "Player 2       60       50       20       45\n",
       "Player 3       20       40       35       15\n",
       "Player 4       80       90       60      100\n",
       "Player 5       55       65       40       75"
      ]
     },
     "execution_count": 9,
     "metadata": {},
     "output_type": "execute_result"
    }
   ],
   "source": [
    "data\n",
    "performance"
   ]
  },
  {
   "cell_type": "code",
   "execution_count": 17,
   "id": "8d89f538-6c31-443e-b872-a03fee5570f4",
   "metadata": {},
   "outputs": [
    {
     "data": {
      "text/html": [
       "<div>\n",
       "<style scoped>\n",
       "    .dataframe tbody tr th:only-of-type {\n",
       "        vertical-align: middle;\n",
       "    }\n",
       "\n",
       "    .dataframe tbody tr th {\n",
       "        vertical-align: top;\n",
       "    }\n",
       "\n",
       "    .dataframe thead th {\n",
       "        text-align: right;\n",
       "    }\n",
       "</style>\n",
       "<table border=\"1\" class=\"dataframe\">\n",
       "  <thead>\n",
       "    <tr style=\"text-align: right;\">\n",
       "      <th></th>\n",
       "      <th>Match 1</th>\n",
       "      <th>Match 2</th>\n",
       "      <th>Match 3</th>\n",
       "      <th>Match 4</th>\n",
       "    </tr>\n",
       "  </thead>\n",
       "  <tbody>\n",
       "    <tr>\n",
       "      <th>Player 1</th>\n",
       "      <td>45</td>\n",
       "      <td>30</td>\n",
       "      <td>70</td>\n",
       "      <td>25</td>\n",
       "    </tr>\n",
       "    <tr>\n",
       "      <th>Player 2</th>\n",
       "      <td>60</td>\n",
       "      <td>50</td>\n",
       "      <td>20</td>\n",
       "      <td>45</td>\n",
       "    </tr>\n",
       "    <tr>\n",
       "      <th>Player 3</th>\n",
       "      <td>20</td>\n",
       "      <td>40</td>\n",
       "      <td>35</td>\n",
       "      <td>15</td>\n",
       "    </tr>\n",
       "  </tbody>\n",
       "</table>\n",
       "</div>"
      ],
      "text/plain": [
       "          Match 1  Match 2  Match 3  Match 4\n",
       "Player 1       45       30       70       25\n",
       "Player 2       60       50       20       45\n",
       "Player 3       20       40       35       15"
      ]
     },
     "execution_count": 17,
     "metadata": {},
     "output_type": "execute_result"
    }
   ],
   "source": [
    "performance.head(3) #Display the first three rows of the performance DataFrame."
   ]
  },
  {
   "cell_type": "code",
   "execution_count": 25,
   "id": "d5ef4565-cd81-4d10-92c6-c7fdab047d0b",
   "metadata": {},
   "outputs": [
    {
     "name": "stdout",
     "output_type": "stream",
     "text": [
      "no. of player 5\n",
      "no. of match 4\n"
     ]
    }
   ],
   "source": [
    "num_Player, num_Match = performance.shape #Get the number of players and matches recorded in the DataFrame\n",
    "print('no. of player',num_Player)\n",
    "print('no. of match',num_Match)"
   ]
  },
  {
   "cell_type": "code",
   "execution_count": 27,
   "id": "77aecf64-631f-45e6-b97f-cc999359b74a",
   "metadata": {},
   "outputs": [
    {
     "name": "stdout",
     "output_type": "stream",
     "text": [
      "Match Names: ['Match 1', 'Match 2', 'Match 3', 'Match 4']\n",
      "Player Names: ['Player 1', 'Player 2', 'Player 3', 'Player 4', 'Player 5']\n"
     ]
    }
   ],
   "source": [
    "match_names = performance.columns.tolist() #List the match names and player names.\n",
    "player_names = performance.index.tolist()\n",
    "print(\"Match Names:\", match_names)\n",
    "print(\"Player Names:\", player_names)"
   ]
  },
  {
   "cell_type": "code",
   "execution_count": 29,
   "id": "ab25045a-1264-428a-827c-103ec9eb875c",
   "metadata": {},
   "outputs": [
    {
     "data": {
      "text/plain": [
       "Match 1    0\n",
       "Match 2    0\n",
       "Match 3    0\n",
       "Match 4    0\n",
       "dtype: int64"
      ]
     },
     "execution_count": 29,
     "metadata": {},
     "output_type": "execute_result"
    }
   ],
   "source": [
    "performance.isnull().sum() #Check if there are any missing values in the DataFrame."
   ]
  },
  {
   "cell_type": "code",
   "execution_count": 39,
   "id": "8e773b0a-3060-431d-a262-b3bf4d4ad7fd",
   "metadata": {},
   "outputs": [
    {
     "data": {
      "text/plain": [
       "Match 1    int64\n",
       "Match 2    int64\n",
       "Match 3    int64\n",
       "Match 4    int64\n",
       "dtype: object"
      ]
     },
     "execution_count": 39,
     "metadata": {},
     "output_type": "execute_result"
    }
   ],
   "source": [
    "performance.dtypes # Display the data type of the elements in the DataFrame"
   ]
  },
  {
   "cell_type": "code",
   "execution_count": 41,
   "id": "18dc5eac-4095-4d45-a113-a0b73d6278b7",
   "metadata": {},
   "outputs": [
    {
     "data": {
      "text/plain": [
       "Match 1     80\n",
       "Match 2     90\n",
       "Match 3     60\n",
       "Match 4    100\n",
       "Name: Player 4, dtype: int64"
      ]
     },
     "execution_count": 41,
     "metadata": {},
     "output_type": "execute_result"
    }
   ],
   "source": [
    "performance.loc['Player 4']    #Retrieve the scores of \"Player 4\" across all matches"
   ]
  },
  {
   "cell_type": "code",
   "execution_count": 43,
   "id": "29078575-20db-412c-a99c-1bd202676526",
   "metadata": {},
   "outputs": [
    {
     "data": {
      "text/plain": [
       "Player 1     25\n",
       "Player 2     45\n",
       "Player 3     15\n",
       "Player 4    100\n",
       "Player 5     75\n",
       "Name: Match 4, dtype: int64"
      ]
     },
     "execution_count": 43,
     "metadata": {},
     "output_type": "execute_result"
    }
   ],
   "source": [
    "performance['Match 4'] #Extract the scores of all players in \"Match 2\"."
   ]
  },
  {
   "cell_type": "code",
   "execution_count": 45,
   "id": "0526dc3d-4817-4ebd-aea6-114be7431cc9",
   "metadata": {},
   "outputs": [
    {
     "data": {
      "text/html": [
       "<div>\n",
       "<style scoped>\n",
       "    .dataframe tbody tr th:only-of-type {\n",
       "        vertical-align: middle;\n",
       "    }\n",
       "\n",
       "    .dataframe tbody tr th {\n",
       "        vertical-align: top;\n",
       "    }\n",
       "\n",
       "    .dataframe thead th {\n",
       "        text-align: right;\n",
       "    }\n",
       "</style>\n",
       "<table border=\"1\" class=\"dataframe\">\n",
       "  <thead>\n",
       "    <tr style=\"text-align: right;\">\n",
       "      <th></th>\n",
       "      <th>Match 1</th>\n",
       "      <th>Match 4</th>\n",
       "    </tr>\n",
       "  </thead>\n",
       "  <tbody>\n",
       "    <tr>\n",
       "      <th>Player 1</th>\n",
       "      <td>45</td>\n",
       "      <td>25</td>\n",
       "    </tr>\n",
       "    <tr>\n",
       "      <th>Player 3</th>\n",
       "      <td>20</td>\n",
       "      <td>15</td>\n",
       "    </tr>\n",
       "  </tbody>\n",
       "</table>\n",
       "</div>"
      ],
      "text/plain": [
       "          Match 1  Match 4\n",
       "Player 1       45       25\n",
       "Player 3       20       15"
      ]
     },
     "execution_count": 45,
     "metadata": {},
     "output_type": "execute_result"
    }
   ],
   "source": [
    " performance.loc[[\"Player 1\", \"Player 3\"],[\"Match 1\", \"Match 4\"]]# Retrieve the scores of \"Player 1\" and \"Player 3\" for \"Match 1\" and \"Match 4\". "
   ]
  },
  {
   "cell_type": "code",
   "execution_count": 47,
   "id": "71049760-7d28-49ee-838b-e9e38800866d",
   "metadata": {},
   "outputs": [
    {
     "data": {
      "text/html": [
       "<div>\n",
       "<style scoped>\n",
       "    .dataframe tbody tr th:only-of-type {\n",
       "        vertical-align: middle;\n",
       "    }\n",
       "\n",
       "    .dataframe tbody tr th {\n",
       "        vertical-align: top;\n",
       "    }\n",
       "\n",
       "    .dataframe thead th {\n",
       "        text-align: right;\n",
       "    }\n",
       "</style>\n",
       "<table border=\"1\" class=\"dataframe\">\n",
       "  <thead>\n",
       "    <tr style=\"text-align: right;\">\n",
       "      <th></th>\n",
       "      <th>Match 1</th>\n",
       "      <th>Match 2</th>\n",
       "    </tr>\n",
       "  </thead>\n",
       "  <tbody>\n",
       "    <tr>\n",
       "      <th>Player 1</th>\n",
       "      <td>45</td>\n",
       "      <td>30</td>\n",
       "    </tr>\n",
       "    <tr>\n",
       "      <th>Player 2</th>\n",
       "      <td>60</td>\n",
       "      <td>50</td>\n",
       "    </tr>\n",
       "    <tr>\n",
       "      <th>Player 3</th>\n",
       "      <td>20</td>\n",
       "      <td>40</td>\n",
       "    </tr>\n",
       "  </tbody>\n",
       "</table>\n",
       "</div>"
      ],
      "text/plain": [
       "          Match 1  Match 2\n",
       "Player 1       45       30\n",
       "Player 2       60       50\n",
       "Player 3       20       40"
      ]
     },
     "execution_count": 47,
     "metadata": {},
     "output_type": "execute_result"
    }
   ],
   "source": [
    "performance.iloc[:3, :2]# Slice the DataFrame to get the first 3 players and the first 2 matches."
   ]
  },
  {
   "cell_type": "code",
   "execution_count": 51,
   "id": "1f1b92bf-df4f-4c00-a2b9-be22fc83cadd",
   "metadata": {},
   "outputs": [
    {
     "data": {
      "text/html": [
       "<div>\n",
       "<style scoped>\n",
       "    .dataframe tbody tr th:only-of-type {\n",
       "        vertical-align: middle;\n",
       "    }\n",
       "\n",
       "    .dataframe tbody tr th {\n",
       "        vertical-align: top;\n",
       "    }\n",
       "\n",
       "    .dataframe thead th {\n",
       "        text-align: right;\n",
       "    }\n",
       "</style>\n",
       "<table border=\"1\" class=\"dataframe\">\n",
       "  <thead>\n",
       "    <tr style=\"text-align: right;\">\n",
       "      <th></th>\n",
       "      <th>Match 3</th>\n",
       "    </tr>\n",
       "  </thead>\n",
       "  <tbody>\n",
       "    <tr>\n",
       "      <th>Player 5</th>\n",
       "      <td>40</td>\n",
       "    </tr>\n",
       "  </tbody>\n",
       "</table>\n",
       "</div>"
      ],
      "text/plain": [
       "          Match 3\n",
       "Player 5       40"
      ]
     },
     "execution_count": 51,
     "metadata": {},
     "output_type": "execute_result"
    }
   ],
   "source": [
    "performance.loc[['Player 5'],['Match 3']]#Find the score of \"Player 5\" in \"Match 3\" using .loc or .iloc."
   ]
  },
  {
   "cell_type": "code",
   "execution_count": 55,
   "id": "14f2ef5e-98ee-41d8-9c7b-1181e632a991",
   "metadata": {},
   "outputs": [
    {
     "data": {
      "text/plain": [
       "40"
      ]
     },
     "execution_count": 55,
     "metadata": {},
     "output_type": "execute_result"
    }
   ],
   "source": [
    "performance.iloc[4, 2]#Find the score of \"Player 5\" in \"Match 3\" using .iloc."
   ]
  },
  {
   "cell_type": "code",
   "execution_count": 85,
   "id": "ae052ade-abb5-40e6-b3f4-5a6fba968db8",
   "metadata": {},
   "outputs": [
    {
     "name": "stdout",
     "output_type": "stream",
     "text": [
      "Updated performance DataFrame:\n",
      "          Match 1  Match 2  Match 3  Match 4\n",
      "Player 1       45       30       70       25\n",
      "Player 2       60       50       20       50\n",
      "Player 3       20       40       35       15\n",
      "Player 4       80       90       60      100\n",
      "Player 5       55       65       40       75\n"
     ]
    }
   ],
   "source": [
    "performance.loc[\"Player 2\", \"Match 4\"] = 50 # Display the updated DataFrame\n",
    "print(\"Updated performance DataFrame:\")\n",
    "print(performance)"
   ]
  },
  {
   "cell_type": "code",
   "execution_count": 87,
   "id": "4a6af684-505a-400f-9930-2822ceb751b0",
   "metadata": {},
   "outputs": [
    {
     "name": "stdout",
     "output_type": "stream",
     "text": [
      "          Match 1  Match 2  Match 3  Match 4\n",
      "Player 1       45       30       70       25\n",
      "Player 2       60       50       20       50\n",
      "Player 3       20       40       35       15\n",
      "Player 4       80       90       60      100\n",
      "Player 5       55       65       40       75\n",
      "Player 6       50       40       60       70\n"
     ]
    }
   ],
   "source": [
    "performance.loc['Player 6'] = [50, 40, 60, 70] #Add a new player, \"Player 6\", with scores [50, 40, 60, 70] in all matches.\n",
    "print(performance)"
   ]
  },
  {
   "cell_type": "code",
   "execution_count": 97,
   "id": "9f432133-5e38-4875-aa4c-7f3d757cb4d9",
   "metadata": {},
   "outputs": [
    {
     "name": "stdout",
     "output_type": "stream",
     "text": [
      "          Match 1  Match 2  Match 3  Match 4\n",
      "Player 1       55       40       80       35\n",
      "Player 2       70       60       30       60\n",
      "Player 3       30       50       45       25\n",
      "Player 4       90      100       70      110\n",
      "Player 5       65       75       50       85\n",
      "Player 6       60       50       70       80\n"
     ]
    }
   ],
   "source": [
    "performance = performance + 10 #Add 10 bonus runs to all scores in the DataFrame\n",
    "print(performance)"
   ]
  },
  {
   "cell_type": "code",
   "execution_count": 99,
   "id": "f3fbf711-8e31-47b6-97f4-a11ce50db1dd",
   "metadata": {},
   "outputs": [
    {
     "name": "stdout",
     "output_type": "stream",
     "text": [
      "          Match 1  Match 2  Match 3  Match 4\n",
      "Player 1       55       40       80       35\n",
      "Player 2       70       60       30       60\n",
      "Player 3       25       45       40       20\n",
      "Player 4       90      100       70      110\n",
      "Player 5       65       75       50       85\n",
      "Player 6       60       50       70       80\n"
     ]
    }
   ],
   "source": [
    "performance.loc[\"Player 3\"] -= 5\n",
    "print(performance)"
   ]
  },
  {
   "cell_type": "code",
   "execution_count": 101,
   "id": "f29eff5a-0b2e-44ec-95a7-1dd3d5133fd9",
   "metadata": {},
   "outputs": [
    {
     "name": "stdout",
     "output_type": "stream",
     "text": [
      "            Match 1    Match 2    Match 3    Match 4\n",
      "Player 1  45.833333  33.333333  66.666667  29.166667\n",
      "Player 2  58.333333  50.000000  25.000000  50.000000\n",
      "Player 3  20.833333  37.500000  33.333333  16.666667\n",
      "Player 4  75.000000  83.333333  58.333333  91.666667\n",
      "Player 5  54.166667  62.500000  41.666667  70.833333\n",
      "Player 6  50.000000  41.666667  58.333333  66.666667\n"
     ]
    }
   ],
   "source": [
    "#Calculate the percentage contribution of each player’s score in a match (max score = 120 per match)\n",
    "percentage_contribution = (performance / 120) * 100\n",
    "print(percentage_contribution)"
   ]
  },
  {
   "cell_type": "code",
   "execution_count": 103,
   "id": "fe277624-0a83-4849-b1ba-d3f334297aba",
   "metadata": {},
   "outputs": [
    {
     "name": "stdout",
     "output_type": "stream",
     "text": [
      "Player 1    210\n",
      "Player 2    220\n",
      "Player 3    130\n",
      "Player 4    370\n",
      "Player 5    275\n",
      "Player 6    260\n",
      "Name: Total Runs, dtype: int64\n"
     ]
    }
   ],
   "source": [
    "#Calculate total runs scored by each player across all matches\n",
    "performance[\"Total Runs\"] = performance.sum(axis=1)\n",
    "print(performance[\"Total Runs\"])"
   ]
  },
  {
   "cell_type": "code",
   "execution_count": 121,
   "id": "2f87474c-9a41-4ce1-9e01-85a9c518c19c",
   "metadata": {},
   "outputs": [
    {
     "name": "stdout",
     "output_type": "stream",
     "text": [
      "Match 1    365\n",
      "Match 2    370\n",
      "Match 3    340\n",
      "Match 4    390\n",
      "dtype: int64\n",
      "Player 4\n",
      "Match 3\n"
     ]
    }
   ],
   "source": [
    "# 4. Determine the total runs scored in each match\n",
    "total_runs_per_match = performance.drop(columns=[\"Total Runs\"]).sum()\n",
    "\n",
    "# 5. Find the player with the highest total runs\n",
    "highest_scorer = performance[\"Total Runs\"].idxmax()\n",
    "\n",
    "# 6. Identify the match with the lowest total runs\n",
    "lowest_scoring_match = total_runs_per_match.idxmin()\n",
    "print(total_runs_per_match)\n",
    "print(highest_scorer)\n",
    "print(lowest_scoring_match)"
   ]
  },
  {
   "cell_type": "code",
   "execution_count": null,
   "id": "7f34ad3a-9ce7-42ad-8197-d54b521ab383",
   "metadata": {},
   "outputs": [],
   "source": []
  }
 ],
 "metadata": {
  "kernelspec": {
   "display_name": "Python [conda env:base] *",
   "language": "python",
   "name": "conda-base-py"
  },
  "language_info": {
   "codemirror_mode": {
    "name": "ipython",
    "version": 3
   },
   "file_extension": ".py",
   "mimetype": "text/x-python",
   "name": "python",
   "nbconvert_exporter": "python",
   "pygments_lexer": "ipython3",
   "version": "3.12.7"
  }
 },
 "nbformat": 4,
 "nbformat_minor": 5
}
