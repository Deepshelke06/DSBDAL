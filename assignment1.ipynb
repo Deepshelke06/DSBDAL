{
 "cells": [
  {
   "cell_type": "code",
   "execution_count": 1,
   "id": "3c5f1382-1e68-4172-9c35-717d9ab103cf",
   "metadata": {},
   "outputs": [],
   "source": [
    "import numpy as np"
   ]
  },
  {
   "cell_type": "code",
   "execution_count": 3,
   "id": "a2a5252e-dfa8-48d4-8100-44e5266bfa30",
   "metadata": {},
   "outputs": [],
   "source": [
    "runs= np.array([[45,50, 30, 60, 25],    \n",
    "                 [10, 15, 5, 20, 12],   \n",
    "                 [80, 60, 75, 100, 90],    \n",
    "                 [25, 30, 20, 35, 40],    \n",
    "                 [0, 5, 10, 0, 2],    \n",
    "                 [50, 55, 60, 65, 70],    \n",
    "                 [35, 40, 45, 50, 55],    \n",
    "                 [100, 110, 120, 115, 125],   \n",
    "                 [10, 12, 15, 10, 8],    \n",
    "                 [70, 80, 85, 90, 95],   \n",
    "                 [40, 45, 50, 55, 60] ])"
   ]
  },
  {
   "cell_type": "code",
   "execution_count": 5,
   "id": "06724c7e-947e-4097-9403-c1da268584af",
   "metadata": {},
   "outputs": [
    {
     "data": {
      "text/plain": [
       "array([[ 45,  50,  30,  60,  25],\n",
       "       [ 10,  15,   5,  20,  12],\n",
       "       [ 80,  60,  75, 100,  90],\n",
       "       [ 25,  30,  20,  35,  40],\n",
       "       [  0,   5,  10,   0,   2],\n",
       "       [ 50,  55,  60,  65,  70],\n",
       "       [ 35,  40,  45,  50,  55],\n",
       "       [100, 110, 120, 115, 125],\n",
       "       [ 10,  12,  15,  10,   8],\n",
       "       [ 70,  80,  85,  90,  95],\n",
       "       [ 40,  45,  50,  55,  60]])"
      ]
     },
     "execution_count": 5,
     "metadata": {},
     "output_type": "execute_result"
    }
   ],
   "source": [
    "runs"
   ]
  },
  {
   "cell_type": "code",
   "execution_count": 15,
   "id": "6245f05e-fa9f-4df5-9ea7-5b89bb351870",
   "metadata": {},
   "outputs": [
    {
     "data": {
      "text/plain": [
       "array([210,  62, 405, 150,  17, 300, 225, 570,  55, 420, 250])"
      ]
     },
     "execution_count": 15,
     "metadata": {},
     "output_type": "execute_result"
    }
   ],
   "source": [
    "np.sum(runs,axis=1)"
   ]
  },
  {
   "cell_type": "code",
   "execution_count": 19,
   "id": "5901bd9d-79a2-41c6-95d0-e3dd5ea459e7",
   "metadata": {},
   "outputs": [
    {
     "data": {
      "text/plain": [
       "125"
      ]
     },
     "execution_count": 19,
     "metadata": {},
     "output_type": "execute_result"
    }
   ],
   "source": [
    "np.max(runs)"
   ]
  },
  {
   "cell_type": "code",
   "execution_count": 21,
   "id": "9e308260-2124-45ff-ad5c-98d549ab19a3",
   "metadata": {},
   "outputs": [
    {
     "name": "stdout",
     "output_type": "stream",
     "text": [
      "Average runs per match by each player: [ 42.   12.4  81.   30.    3.4  60.   45.  114.   11.   84.   50. ]\n"
     ]
    }
   ],
   "source": [
    "average_runs_by_player = np.mean(runs, axis=1)\n",
    "print(\"Average runs per match by each player:\", average_runs_by_player)"
   ]
  },
  {
   "cell_type": "code",
   "execution_count": 27,
   "id": "7d368f0c-1b0a-4a1e-9413-b40dd39d34df",
   "metadata": {},
   "outputs": [],
   "source": [
    "sales_data = np.array([[150, 200, 250, 300, 400, 350, 500],  # Product 1    \n",
    "                        [120, 180, 210, 240, 310, 280, 400],  # Product 2    \n",
    "                        [100, 130, 190, 220, 300, 270, 350],  # Product 3    \n",
    "                        [80,  90,  150, 180, 240, 220, 300],  # Product 4    \n",
    "                        [50,  60,  80,  100, 130, 120, 180]]) # Product 5"
   ]
  },
  {
   "cell_type": "code",
   "execution_count": 29,
   "id": "8fb421ca-b2c3-452e-a7f1-31e98b33d672",
   "metadata": {},
   "outputs": [
    {
     "data": {
      "text/plain": [
       "array([[150, 200, 250, 300, 400, 350, 500],\n",
       "       [120, 180, 210, 240, 310, 280, 400],\n",
       "       [100, 130, 190, 220, 300, 270, 350],\n",
       "       [ 80,  90, 150, 180, 240, 220, 300],\n",
       "       [ 50,  60,  80, 100, 130, 120, 180]])"
      ]
     },
     "execution_count": 29,
     "metadata": {},
     "output_type": "execute_result"
    }
   ],
   "source": [
    "sales_data"
   ]
  },
  {
   "cell_type": "code",
   "execution_count": 35,
   "id": "b94c7ad3-2c42-4d0b-a558-4426f1fe0997",
   "metadata": {},
   "outputs": [
    {
     "data": {
      "text/plain": [
       "(5, 7)"
      ]
     },
     "execution_count": 35,
     "metadata": {},
     "output_type": "execute_result"
    }
   ],
   "source": [
    "sales_data.shape"
   ]
  },
  {
   "cell_type": "code",
   "execution_count": 43,
   "id": "d3520257-ebed-42ee-9e41-b45f6bc4eb99",
   "metadata": {},
   "outputs": [
    {
     "data": {
      "text/plain": [
       "dtype('int32')"
      ]
     },
     "execution_count": 43,
     "metadata": {},
     "output_type": "execute_result"
    }
   ],
   "source": [
    "sales_data.dtype"
   ]
  },
  {
   "cell_type": "code",
   "execution_count": 45,
   "id": "acb82211-34a0-46dc-91a8-cd3f0d916830",
   "metadata": {},
   "outputs": [
    {
     "data": {
      "text/plain": [
       "2"
      ]
     },
     "execution_count": 45,
     "metadata": {},
     "output_type": "execute_result"
    }
   ],
   "source": [
    "sales_data.ndim "
   ]
  },
  {
   "cell_type": "code",
   "execution_count": 47,
   "id": "631b7c25-658a-4785-987a-cf296be704e6",
   "metadata": {},
   "outputs": [
    {
     "data": {
      "text/plain": [
       "35"
      ]
     },
     "execution_count": 47,
     "metadata": {},
     "output_type": "execute_result"
    }
   ],
   "source": [
    "sales_data.size"
   ]
  },
  {
   "cell_type": "code",
   "execution_count": 51,
   "id": "40b1d059-24c3-41f8-9347-3c6afe3ff93d",
   "metadata": {},
   "outputs": [
    {
     "data": {
      "text/plain": [
       "140"
      ]
     },
     "execution_count": 51,
     "metadata": {},
     "output_type": "execute_result"
    }
   ],
   "source": [
    "sales_data.nbytes"
   ]
  },
  {
   "cell_type": "code",
   "execution_count": 59,
   "id": "8c4e090d-184d-4f02-ad1c-b430c9793cc6",
   "metadata": {},
   "outputs": [
    {
     "data": {
      "text/plain": [
       "220"
      ]
     },
     "execution_count": 59,
     "metadata": {},
     "output_type": "execute_result"
    }
   ],
   "source": [
    "sales_data[2, 3] # for the Product 3 on Day 4"
   ]
  },
  {
   "cell_type": "code",
   "execution_count": 63,
   "id": "211e3dbb-63eb-44ff-ba82-07620d6c4034",
   "metadata": {},
   "outputs": [
    {
     "data": {
      "text/plain": [
       "array([150, 200, 250, 300, 400, 350, 500])"
      ]
     },
     "execution_count": 63,
     "metadata": {},
     "output_type": "execute_result"
    }
   ],
   "source": [
    "sales_data[0,:]#All sales data for Product 1."
   ]
  },
  {
   "cell_type": "code",
   "execution_count": 65,
   "id": "c621b881-478a-4c32-a2d4-113fbda15bd8",
   "metadata": {},
   "outputs": [
    {
     "data": {
      "text/plain": [
       "array([[350, 500],\n",
       "       [280, 400],\n",
       "       [270, 350],\n",
       "       [220, 300],\n",
       "       [120, 180]])"
      ]
     },
     "execution_count": 65,
     "metadata": {},
     "output_type": "execute_result"
    }
   ],
   "source": [
    "sales_data[:, -2:]#Sales data for the last 2 days.\n"
   ]
  },
  {
   "cell_type": "code",
   "execution_count": null,
   "id": "e344493e-d788-4324-a525-d930a4c39357",
   "metadata": {},
   "outputs": [],
   "source": []
  }
 ],
 "metadata": {
  "kernelspec": {
   "display_name": "Python [conda env:base] *",
   "language": "python",
   "name": "conda-base-py"
  },
  "language_info": {
   "codemirror_mode": {
    "name": "ipython",
    "version": 3
   },
   "file_extension": ".py",
   "mimetype": "text/x-python",
   "name": "python",
   "nbconvert_exporter": "python",
   "pygments_lexer": "ipython3",
   "version": "3.12.7"
  }
 },
 "nbformat": 4,
 "nbformat_minor": 5
}
